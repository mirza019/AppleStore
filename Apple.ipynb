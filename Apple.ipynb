{
 "cells": [
  {
   "cell_type": "code",
   "execution_count": 1,
   "metadata": {},
   "outputs": [],
   "source": [
    "import numpy as np\n",
    "import pandas as pd\n",
    "import matplotlib.pyplot as plt\n",
    "import seaborn as sns\n",
    "%matplotlib inline"
   ]
  },
  {
   "cell_type": "code",
   "execution_count": 2,
   "metadata": {},
   "outputs": [],
   "source": [
    "ap= pd.read_csv('apst.csv',index_col=False )"
   ]
  },
  {
   "cell_type": "code",
   "execution_count": 3,
   "metadata": {},
   "outputs": [
    {
     "data": {
      "text/html": [
       "<div>\n",
       "<style scoped>\n",
       "    .dataframe tbody tr th:only-of-type {\n",
       "        vertical-align: middle;\n",
       "    }\n",
       "\n",
       "    .dataframe tbody tr th {\n",
       "        vertical-align: top;\n",
       "    }\n",
       "\n",
       "    .dataframe thead th {\n",
       "        text-align: right;\n",
       "    }\n",
       "</style>\n",
       "<table border=\"1\" class=\"dataframe\">\n",
       "  <thead>\n",
       "    <tr style=\"text-align: right;\">\n",
       "      <th></th>\n",
       "      <th>id</th>\n",
       "      <th>track_name</th>\n",
       "      <th>size_bytes</th>\n",
       "      <th>currency</th>\n",
       "      <th>price</th>\n",
       "      <th>rating_count_tot</th>\n",
       "      <th>rating_count_ver</th>\n",
       "      <th>user_rating</th>\n",
       "      <th>user_rating_ver</th>\n",
       "      <th>ver</th>\n",
       "      <th>cont_rating</th>\n",
       "      <th>prime_genre</th>\n",
       "      <th>sup_devices.num</th>\n",
       "      <th>ipadSc_urls.num</th>\n",
       "      <th>lang.num</th>\n",
       "      <th>vpp_lic</th>\n",
       "    </tr>\n",
       "  </thead>\n",
       "  <tbody>\n",
       "    <tr>\n",
       "      <td>7192</td>\n",
       "      <td>1170406182</td>\n",
       "      <td>Shark Boom - Challenge Friends with your Pet</td>\n",
       "      <td>245415936</td>\n",
       "      <td>USD</td>\n",
       "      <td>0.0</td>\n",
       "      <td>0</td>\n",
       "      <td>0</td>\n",
       "      <td>0.0</td>\n",
       "      <td>0.0</td>\n",
       "      <td>1.0.9</td>\n",
       "      <td>4+</td>\n",
       "      <td>Games</td>\n",
       "      <td>38</td>\n",
       "      <td>5</td>\n",
       "      <td>1</td>\n",
       "      <td>1</td>\n",
       "    </tr>\n",
       "    <tr>\n",
       "      <td>7193</td>\n",
       "      <td>1069830936</td>\n",
       "      <td>【謎解き】ヤミすぎ彼女からのメッセージ</td>\n",
       "      <td>16808960</td>\n",
       "      <td>USD</td>\n",
       "      <td>0.0</td>\n",
       "      <td>0</td>\n",
       "      <td>0</td>\n",
       "      <td>0.0</td>\n",
       "      <td>0.0</td>\n",
       "      <td>1.2</td>\n",
       "      <td>9+</td>\n",
       "      <td>Book</td>\n",
       "      <td>38</td>\n",
       "      <td>0</td>\n",
       "      <td>1</td>\n",
       "      <td>1</td>\n",
       "    </tr>\n",
       "    <tr>\n",
       "      <td>7194</td>\n",
       "      <td>1070052833</td>\n",
       "      <td>Go!Go!Cat!</td>\n",
       "      <td>91468800</td>\n",
       "      <td>USD</td>\n",
       "      <td>0.0</td>\n",
       "      <td>0</td>\n",
       "      <td>0</td>\n",
       "      <td>0.0</td>\n",
       "      <td>0.0</td>\n",
       "      <td>1.1.2</td>\n",
       "      <td>12+</td>\n",
       "      <td>Games</td>\n",
       "      <td>37</td>\n",
       "      <td>2</td>\n",
       "      <td>2</td>\n",
       "      <td>1</td>\n",
       "    </tr>\n",
       "    <tr>\n",
       "      <td>7195</td>\n",
       "      <td>1081295232</td>\n",
       "      <td>Suppin Detective: Expose their true visage!</td>\n",
       "      <td>83026944</td>\n",
       "      <td>USD</td>\n",
       "      <td>0.0</td>\n",
       "      <td>0</td>\n",
       "      <td>0</td>\n",
       "      <td>0.0</td>\n",
       "      <td>0.0</td>\n",
       "      <td>1.0.3</td>\n",
       "      <td>12+</td>\n",
       "      <td>Entertainment</td>\n",
       "      <td>40</td>\n",
       "      <td>0</td>\n",
       "      <td>1</td>\n",
       "      <td>1</td>\n",
       "    </tr>\n",
       "    <tr>\n",
       "      <td>7196</td>\n",
       "      <td>977965019</td>\n",
       "      <td>みんなのお弁当 by クックパッド ~お弁当をレシピ付きで記録・共有~</td>\n",
       "      <td>51174400</td>\n",
       "      <td>USD</td>\n",
       "      <td>0.0</td>\n",
       "      <td>0</td>\n",
       "      <td>0</td>\n",
       "      <td>0.0</td>\n",
       "      <td>0.0</td>\n",
       "      <td>1.4.0</td>\n",
       "      <td>4+</td>\n",
       "      <td>Food &amp; Drink</td>\n",
       "      <td>37</td>\n",
       "      <td>0</td>\n",
       "      <td>1</td>\n",
       "      <td>1</td>\n",
       "    </tr>\n",
       "  </tbody>\n",
       "</table>\n",
       "</div>"
      ],
      "text/plain": [
       "              id                                    track_name  size_bytes  \\\n",
       "7192  1170406182  Shark Boom - Challenge Friends with your Pet   245415936   \n",
       "7193  1069830936                           【謎解き】ヤミすぎ彼女からのメッセージ    16808960   \n",
       "7194  1070052833                                    Go!Go!Cat!    91468800   \n",
       "7195  1081295232   Suppin Detective: Expose their true visage!    83026944   \n",
       "7196   977965019           みんなのお弁当 by クックパッド ~お弁当をレシピ付きで記録・共有~    51174400   \n",
       "\n",
       "     currency  price  rating_count_tot  rating_count_ver  user_rating  \\\n",
       "7192      USD    0.0                 0                 0          0.0   \n",
       "7193      USD    0.0                 0                 0          0.0   \n",
       "7194      USD    0.0                 0                 0          0.0   \n",
       "7195      USD    0.0                 0                 0          0.0   \n",
       "7196      USD    0.0                 0                 0          0.0   \n",
       "\n",
       "      user_rating_ver    ver cont_rating    prime_genre  sup_devices.num  \\\n",
       "7192              0.0  1.0.9          4+          Games               38   \n",
       "7193              0.0    1.2          9+           Book               38   \n",
       "7194              0.0  1.1.2         12+          Games               37   \n",
       "7195              0.0  1.0.3         12+  Entertainment               40   \n",
       "7196              0.0  1.4.0          4+   Food & Drink               37   \n",
       "\n",
       "      ipadSc_urls.num  lang.num  vpp_lic  \n",
       "7192                5         1        1  \n",
       "7193                0         1        1  \n",
       "7194                2         2        1  \n",
       "7195                0         1        1  \n",
       "7196                0         1        1  "
      ]
     },
     "execution_count": 3,
     "metadata": {},
     "output_type": "execute_result"
    }
   ],
   "source": [
    "ap.tail()"
   ]
  },
  {
   "cell_type": "code",
   "execution_count": 4,
   "metadata": {},
   "outputs": [],
   "source": [
    "ap.drop(['id', 'track_name', 'size_bytes', 'currency', 'price',\n",
    "         'ver', 'cont_rating', 'prime_genre','vpp_lic'],axis = 1, inplace= True)"
   ]
  },
  {
   "cell_type": "code",
   "execution_count": 5,
   "metadata": {},
   "outputs": [
    {
     "data": {
      "text/plain": [
       "Index(['rating_count_tot', 'rating_count_ver', 'user_rating',\n",
       "       'user_rating_ver', 'sup_devices.num', 'ipadSc_urls.num', 'lang.num'],\n",
       "      dtype='object')"
      ]
     },
     "execution_count": 5,
     "metadata": {},
     "output_type": "execute_result"
    }
   ],
   "source": [
    "ap.columns\n"
   ]
  },
  {
   "cell_type": "code",
   "execution_count": 6,
   "metadata": {},
   "outputs": [
    {
     "data": {
      "text/html": [
       "<div>\n",
       "<style scoped>\n",
       "    .dataframe tbody tr th:only-of-type {\n",
       "        vertical-align: middle;\n",
       "    }\n",
       "\n",
       "    .dataframe tbody tr th {\n",
       "        vertical-align: top;\n",
       "    }\n",
       "\n",
       "    .dataframe thead th {\n",
       "        text-align: right;\n",
       "    }\n",
       "</style>\n",
       "<table border=\"1\" class=\"dataframe\">\n",
       "  <thead>\n",
       "    <tr style=\"text-align: right;\">\n",
       "      <th></th>\n",
       "      <th>rating_count_tot</th>\n",
       "      <th>rating_count_ver</th>\n",
       "      <th>user_rating</th>\n",
       "      <th>user_rating_ver</th>\n",
       "      <th>sup_devices.num</th>\n",
       "      <th>ipadSc_urls.num</th>\n",
       "      <th>lang.num</th>\n",
       "    </tr>\n",
       "  </thead>\n",
       "  <tbody>\n",
       "    <tr>\n",
       "      <td>0</td>\n",
       "      <td>2974676</td>\n",
       "      <td>212</td>\n",
       "      <td>3.5</td>\n",
       "      <td>3.5</td>\n",
       "      <td>37</td>\n",
       "      <td>1</td>\n",
       "      <td>29</td>\n",
       "    </tr>\n",
       "    <tr>\n",
       "      <td>1</td>\n",
       "      <td>2161558</td>\n",
       "      <td>1289</td>\n",
       "      <td>4.5</td>\n",
       "      <td>4.0</td>\n",
       "      <td>37</td>\n",
       "      <td>0</td>\n",
       "      <td>29</td>\n",
       "    </tr>\n",
       "    <tr>\n",
       "      <td>2</td>\n",
       "      <td>2130805</td>\n",
       "      <td>579</td>\n",
       "      <td>4.5</td>\n",
       "      <td>4.5</td>\n",
       "      <td>38</td>\n",
       "      <td>5</td>\n",
       "      <td>18</td>\n",
       "    </tr>\n",
       "    <tr>\n",
       "      <td>3</td>\n",
       "      <td>1724546</td>\n",
       "      <td>3842</td>\n",
       "      <td>4.5</td>\n",
       "      <td>4.0</td>\n",
       "      <td>40</td>\n",
       "      <td>5</td>\n",
       "      <td>1</td>\n",
       "    </tr>\n",
       "    <tr>\n",
       "      <td>4</td>\n",
       "      <td>1126879</td>\n",
       "      <td>3594</td>\n",
       "      <td>4.0</td>\n",
       "      <td>4.5</td>\n",
       "      <td>37</td>\n",
       "      <td>4</td>\n",
       "      <td>1</td>\n",
       "    </tr>\n",
       "  </tbody>\n",
       "</table>\n",
       "</div>"
      ],
      "text/plain": [
       "   rating_count_tot  rating_count_ver  user_rating  user_rating_ver  \\\n",
       "0           2974676               212          3.5              3.5   \n",
       "1           2161558              1289          4.5              4.0   \n",
       "2           2130805               579          4.5              4.5   \n",
       "3           1724546              3842          4.5              4.0   \n",
       "4           1126879              3594          4.0              4.5   \n",
       "\n",
       "   sup_devices.num  ipadSc_urls.num  lang.num  \n",
       "0               37                1        29  \n",
       "1               37                0        29  \n",
       "2               38                5        18  \n",
       "3               40                5         1  \n",
       "4               37                4         1  "
      ]
     },
     "execution_count": 6,
     "metadata": {},
     "output_type": "execute_result"
    }
   ],
   "source": [
    "ap.head()"
   ]
  },
  {
   "cell_type": "code",
   "execution_count": null,
   "metadata": {},
   "outputs": [],
   "source": []
  },
  {
   "cell_type": "code",
   "execution_count": 7,
   "metadata": {},
   "outputs": [
    {
     "data": {
      "text/html": [
       "<div>\n",
       "<style scoped>\n",
       "    .dataframe tbody tr th:only-of-type {\n",
       "        vertical-align: middle;\n",
       "    }\n",
       "\n",
       "    .dataframe tbody tr th {\n",
       "        vertical-align: top;\n",
       "    }\n",
       "\n",
       "    .dataframe thead th {\n",
       "        text-align: right;\n",
       "    }\n",
       "</style>\n",
       "<table border=\"1\" class=\"dataframe\">\n",
       "  <thead>\n",
       "    <tr style=\"text-align: right;\">\n",
       "      <th></th>\n",
       "      <th>rating_count_tot</th>\n",
       "      <th>rating_count_ver</th>\n",
       "      <th>user_rating</th>\n",
       "      <th>user_rating_ver</th>\n",
       "      <th>sup_devices.num</th>\n",
       "      <th>ipadSc_urls.num</th>\n",
       "      <th>lang.num</th>\n",
       "    </tr>\n",
       "  </thead>\n",
       "  <tbody>\n",
       "    <tr>\n",
       "      <td>6997</td>\n",
       "      <td>0</td>\n",
       "      <td>0</td>\n",
       "      <td>0.0</td>\n",
       "      <td>0.0</td>\n",
       "      <td>37</td>\n",
       "      <td>5</td>\n",
       "      <td>2</td>\n",
       "    </tr>\n",
       "    <tr>\n",
       "      <td>6998</td>\n",
       "      <td>0</td>\n",
       "      <td>0</td>\n",
       "      <td>0.0</td>\n",
       "      <td>0.0</td>\n",
       "      <td>40</td>\n",
       "      <td>4</td>\n",
       "      <td>2</td>\n",
       "    </tr>\n",
       "    <tr>\n",
       "      <td>6999</td>\n",
       "      <td>0</td>\n",
       "      <td>0</td>\n",
       "      <td>0.0</td>\n",
       "      <td>0.0</td>\n",
       "      <td>38</td>\n",
       "      <td>0</td>\n",
       "      <td>1</td>\n",
       "    </tr>\n",
       "    <tr>\n",
       "      <td>7000</td>\n",
       "      <td>0</td>\n",
       "      <td>0</td>\n",
       "      <td>0.0</td>\n",
       "      <td>0.0</td>\n",
       "      <td>40</td>\n",
       "      <td>4</td>\n",
       "      <td>1</td>\n",
       "    </tr>\n",
       "    <tr>\n",
       "      <td>7001</td>\n",
       "      <td>0</td>\n",
       "      <td>0</td>\n",
       "      <td>0.0</td>\n",
       "      <td>0.0</td>\n",
       "      <td>40</td>\n",
       "      <td>3</td>\n",
       "      <td>1</td>\n",
       "    </tr>\n",
       "    <tr>\n",
       "      <td>...</td>\n",
       "      <td>...</td>\n",
       "      <td>...</td>\n",
       "      <td>...</td>\n",
       "      <td>...</td>\n",
       "      <td>...</td>\n",
       "      <td>...</td>\n",
       "      <td>...</td>\n",
       "    </tr>\n",
       "    <tr>\n",
       "      <td>7192</td>\n",
       "      <td>0</td>\n",
       "      <td>0</td>\n",
       "      <td>0.0</td>\n",
       "      <td>0.0</td>\n",
       "      <td>38</td>\n",
       "      <td>5</td>\n",
       "      <td>1</td>\n",
       "    </tr>\n",
       "    <tr>\n",
       "      <td>7193</td>\n",
       "      <td>0</td>\n",
       "      <td>0</td>\n",
       "      <td>0.0</td>\n",
       "      <td>0.0</td>\n",
       "      <td>38</td>\n",
       "      <td>0</td>\n",
       "      <td>1</td>\n",
       "    </tr>\n",
       "    <tr>\n",
       "      <td>7194</td>\n",
       "      <td>0</td>\n",
       "      <td>0</td>\n",
       "      <td>0.0</td>\n",
       "      <td>0.0</td>\n",
       "      <td>37</td>\n",
       "      <td>2</td>\n",
       "      <td>2</td>\n",
       "    </tr>\n",
       "    <tr>\n",
       "      <td>7195</td>\n",
       "      <td>0</td>\n",
       "      <td>0</td>\n",
       "      <td>0.0</td>\n",
       "      <td>0.0</td>\n",
       "      <td>40</td>\n",
       "      <td>0</td>\n",
       "      <td>1</td>\n",
       "    </tr>\n",
       "    <tr>\n",
       "      <td>7196</td>\n",
       "      <td>0</td>\n",
       "      <td>0</td>\n",
       "      <td>0.0</td>\n",
       "      <td>0.0</td>\n",
       "      <td>37</td>\n",
       "      <td>0</td>\n",
       "      <td>1</td>\n",
       "    </tr>\n",
       "  </tbody>\n",
       "</table>\n",
       "<p>200 rows × 7 columns</p>\n",
       "</div>"
      ],
      "text/plain": [
       "      rating_count_tot  rating_count_ver  user_rating  user_rating_ver  \\\n",
       "6997                 0                 0          0.0              0.0   \n",
       "6998                 0                 0          0.0              0.0   \n",
       "6999                 0                 0          0.0              0.0   \n",
       "7000                 0                 0          0.0              0.0   \n",
       "7001                 0                 0          0.0              0.0   \n",
       "...                ...               ...          ...              ...   \n",
       "7192                 0                 0          0.0              0.0   \n",
       "7193                 0                 0          0.0              0.0   \n",
       "7194                 0                 0          0.0              0.0   \n",
       "7195                 0                 0          0.0              0.0   \n",
       "7196                 0                 0          0.0              0.0   \n",
       "\n",
       "      sup_devices.num  ipadSc_urls.num  lang.num  \n",
       "6997               37                5         2  \n",
       "6998               40                4         2  \n",
       "6999               38                0         1  \n",
       "7000               40                4         1  \n",
       "7001               40                3         1  \n",
       "...               ...              ...       ...  \n",
       "7192               38                5         1  \n",
       "7193               38                0         1  \n",
       "7194               37                2         2  \n",
       "7195               40                0         1  \n",
       "7196               37                0         1  \n",
       "\n",
       "[200 rows x 7 columns]"
      ]
     },
     "execution_count": 7,
     "metadata": {},
     "output_type": "execute_result"
    }
   ],
   "source": [
    "ap.tail(200)"
   ]
  },
  {
   "cell_type": "code",
   "execution_count": 8,
   "metadata": {},
   "outputs": [],
   "source": [
    "from sklearn.model_selection import train_test_split"
   ]
  },
  {
   "cell_type": "code",
   "execution_count": 123,
   "metadata": {},
   "outputs": [],
   "source": [
    "X = ap.drop('user_rating',axis =1)\n",
    "y = ap['user_rating']"
   ]
  },
  {
   "cell_type": "code",
   "execution_count": 124,
   "metadata": {},
   "outputs": [],
   "source": [
    "X_train, X_test, y_train, y_test = train_test_split(X, y, test_size=0.34)"
   ]
  },
  {
   "cell_type": "code",
   "execution_count": 11,
   "metadata": {},
   "outputs": [
    {
     "data": {
      "text/plain": [
       "4580    4.0\n",
       "3088    4.5\n",
       "6241    3.0\n",
       "5553    1.5\n",
       "5022    4.0\n",
       "       ... \n",
       "1802    4.0\n",
       "2064    4.0\n",
       "5533    5.0\n",
       "6806    0.0\n",
       "3731    5.0\n",
       "Name: user_rating, Length: 2447, dtype: float64"
      ]
     },
     "execution_count": 11,
     "metadata": {},
     "output_type": "execute_result"
    }
   ],
   "source": [
    "y_test"
   ]
  },
  {
   "cell_type": "code",
   "execution_count": 12,
   "metadata": {},
   "outputs": [],
   "source": [
    "unsn = ap.sample(10)\n",
    "unsn_x = unsn.drop('user_rating',axis =1)\n",
    "unsn_y = unsn['user_rating']"
   ]
  },
  {
   "cell_type": "code",
   "execution_count": 13,
   "metadata": {},
   "outputs": [],
   "source": [
    "from sklearn.linear_model import LinearRegression"
   ]
  },
  {
   "cell_type": "markdown",
   "metadata": {},
   "source": [
    "# Linear Regression"
   ]
  },
  {
   "cell_type": "code",
   "execution_count": 14,
   "metadata": {},
   "outputs": [],
   "source": [
    "lnrg = LinearRegression()"
   ]
  },
  {
   "cell_type": "code",
   "execution_count": 15,
   "metadata": {},
   "outputs": [
    {
     "data": {
      "text/plain": [
       "LinearRegression(copy_X=True, fit_intercept=True, n_jobs=None, normalize=False)"
      ]
     },
     "execution_count": 15,
     "metadata": {},
     "output_type": "execute_result"
    }
   ],
   "source": [
    "lnrg.fit(X_train,y_train)"
   ]
  },
  {
   "cell_type": "code",
   "execution_count": 16,
   "metadata": {},
   "outputs": [],
   "source": [
    "lmprediction = lnrg.predict(X_test)"
   ]
  },
  {
   "cell_type": "code",
   "execution_count": 17,
   "metadata": {},
   "outputs": [
    {
     "name": "stdout",
     "output_type": "stream",
     "text": [
      "Pearsons correlation: 0.776\n"
     ]
    }
   ],
   "source": [
    "from scipy.stats import pearsonr\n",
    "lmcorr, _ = pearsonr(lmprediction, y_test)\n",
    "print('Pearsons correlation: %.3f' % lmcorr)"
   ]
  },
  {
   "cell_type": "code",
   "execution_count": 18,
   "metadata": {},
   "outputs": [],
   "source": [
    "from sklearn.metrics import mean_absolute_error\n",
    "lmmae=mean_absolute_error(y_test, lmprediction).round(3)"
   ]
  },
  {
   "cell_type": "code",
   "execution_count": 19,
   "metadata": {},
   "outputs": [],
   "source": [
    "from sklearn.metrics import mean_squared_error\n",
    "from math import sqrt"
   ]
  },
  {
   "cell_type": "code",
   "execution_count": 20,
   "metadata": {},
   "outputs": [],
   "source": [
    "lmmsqe=mean_squared_error(y_test, lmprediction)"
   ]
  },
  {
   "cell_type": "code",
   "execution_count": 21,
   "metadata": {},
   "outputs": [],
   "source": [
    "lmrms = sqrt(mean_squared_error(y_test, lmprediction))"
   ]
  },
  {
   "cell_type": "code",
   "execution_count": 165,
   "metadata": {},
   "outputs": [
    {
     "name": "stdout",
     "output_type": "stream",
     "text": [
      "Linear Regression\n",
      "Coeefficient Correlation: 0.776\n",
      "Mean Absolute Error: 0.651\n",
      "Mean Squre Root Error: 0.940\n",
      "Root Mean Squre Error: 0.970\n"
     ]
    }
   ],
   "source": [
    "print('Linear Regression')\n",
    "print('Coeefficient Correlation: %.3f'%lmcorr)\n",
    "print('Mean Absolute Error: %.3f'%lmmae)\n",
    "print('Mean Squre Root Error: %.3f'%lmmsqe)\n",
    "print('Root Mean Squre Error: %.3f'%lmrms)"
   ]
  },
  {
   "cell_type": "markdown",
   "metadata": {},
   "source": [
    "# SVM"
   ]
  },
  {
   "cell_type": "code",
   "execution_count": 23,
   "metadata": {},
   "outputs": [],
   "source": [
    "from sklearn.svm import SVR"
   ]
  },
  {
   "cell_type": "code",
   "execution_count": 24,
   "metadata": {},
   "outputs": [
    {
     "name": "stderr",
     "output_type": "stream",
     "text": [
      "C:\\Users\\cafeo\\Anaconda3\\lib\\site-packages\\sklearn\\svm\\base.py:193: FutureWarning: The default value of gamma will change from 'auto' to 'scale' in version 0.22 to account better for unscaled features. Set gamma explicitly to 'auto' or 'scale' to avoid this warning.\n",
      "  \"avoid this warning.\", FutureWarning)\n"
     ]
    },
    {
     "data": {
      "text/plain": [
       "SVR(C=1.0, cache_size=200, coef0=0.0, degree=3, epsilon=0.1,\n",
       "    gamma='auto_deprecated', kernel='rbf', max_iter=-1, shrinking=True,\n",
       "    tol=0.001, verbose=False)"
      ]
     },
     "execution_count": 24,
     "metadata": {},
     "output_type": "execute_result"
    }
   ],
   "source": [
    "svc_mdl = SVR()\n",
    "svc_mdl.fit(X_train,y_train)"
   ]
  },
  {
   "cell_type": "code",
   "execution_count": 25,
   "metadata": {},
   "outputs": [],
   "source": [
    "predsvm = svc_mdl.predict(X_test)"
   ]
  },
  {
   "cell_type": "code",
   "execution_count": 26,
   "metadata": {},
   "outputs": [
    {
     "name": "stdout",
     "output_type": "stream",
     "text": [
      "Pearsons correlation: 0.909\n"
     ]
    }
   ],
   "source": [
    "svmcorr, _ = pearsonr(predsvm, y_test)\n",
    "print('Pearsons correlation: %.3f' % svmcorr)"
   ]
  },
  {
   "cell_type": "code",
   "execution_count": 27,
   "metadata": {},
   "outputs": [],
   "source": [
    "svmmae=mean_absolute_error(y_test, predsvm).round(3)\n",
    "svmmsqe=mean_squared_error(y_test, predsvm)\n",
    "svmrms = sqrt(mean_squared_error(y_test, predsvm))"
   ]
  },
  {
   "cell_type": "code",
   "execution_count": 164,
   "metadata": {},
   "outputs": [
    {
     "name": "stdout",
     "output_type": "stream",
     "text": [
      "SVM\n",
      "Coeefficient Correlation: 0.909\n",
      "Mean Absolute Error: 0.451\n",
      "Mean Squre Root Error: 0.413\n",
      "Root Mean Squre Error: 0.643\n"
     ]
    }
   ],
   "source": [
    "print('SVM')\n",
    "print('Coeefficient Correlation: %.3f'%svmcorr)\n",
    "print('Mean Absolute Error: %.3f'%svmmae)\n",
    "print('Mean Squre Root Error: %.3f'%svmmsqe)\n",
    "print('Root Mean Squre Error: %.3f'%svmrms)"
   ]
  },
  {
   "cell_type": "code",
   "execution_count": 29,
   "metadata": {},
   "outputs": [],
   "source": [
    "from sklearn.ensemble import RandomForestRegressor"
   ]
  },
  {
   "cell_type": "code",
   "execution_count": 30,
   "metadata": {},
   "outputs": [],
   "source": [
    "rfc = RandomForestRegressor(n_estimators=600)"
   ]
  },
  {
   "cell_type": "code",
   "execution_count": 31,
   "metadata": {},
   "outputs": [],
   "source": [
    "rfc.fit(X_train,y_train)\n",
    "predrf = rfc.predict(X_test)"
   ]
  },
  {
   "cell_type": "code",
   "execution_count": 32,
   "metadata": {},
   "outputs": [
    {
     "name": "stdout",
     "output_type": "stream",
     "text": [
      "Coeefficient Correlation: 0.951\n",
      "Mean Absolute Error: 0.293\n",
      "Mean Squre Root Error: 0.227\n",
      "Root Mean Squre Error: 0.476\n"
     ]
    }
   ],
   "source": [
    "rfcorr, _ = pearsonr(predrf, y_test)\n",
    "rfmae=mean_absolute_error(y_test, predrf).round(3)\n",
    "rfmsqe=mean_squared_error(y_test, predrf)\n",
    "rfrms = sqrt(mean_squared_error(y_test, predrf))\n",
    "print('Coeefficient Correlation: %.3f'%rfcorr)\n",
    "print('Mean Absolute Error: %.3f'%rfmae)\n",
    "print('Mean Squre Root Error: %.3f'%rfmsqe)\n",
    "print('Root Mean Squre Error: %.3f'%rfrms)"
   ]
  },
  {
   "cell_type": "markdown",
   "metadata": {},
   "source": [
    "# Decision Tree\n"
   ]
  },
  {
   "cell_type": "code",
   "execution_count": 140,
   "metadata": {},
   "outputs": [],
   "source": [
    "from sklearn.tree import DecisionTreeRegressor"
   ]
  },
  {
   "cell_type": "code",
   "execution_count": 141,
   "metadata": {},
   "outputs": [],
   "source": [
    "dtr = DecisionTreeRegressor()"
   ]
  },
  {
   "cell_type": "code",
   "execution_count": 142,
   "metadata": {},
   "outputs": [],
   "source": [
    "dtr.fit(X_train,y_train)\n",
    "predtr = dtr.predict(X_test)"
   ]
  },
  {
   "cell_type": "code",
   "execution_count": 166,
   "metadata": {},
   "outputs": [
    {
     "name": "stdout",
     "output_type": "stream",
     "text": [
      "Decision Tree\n",
      "Coeefficient Correlation: nan\n",
      "Mean Absolute Error: 0.359\n",
      "Mean Squre Root Error: 0.388\n",
      "Root Mean Squre Error: 0.623\n"
     ]
    }
   ],
   "source": [
    "dtrcorr, _ = pearsonr(predtr, y_test)\n",
    "dtrmae=mean_absolute_error(y_test, predtr).round(3)\n",
    "dtrmsqe=mean_squared_error(y_test, predtr)\n",
    "dtrrms = sqrt(mean_squared_error(y_test, predtr))\n",
    "print('Decision Tree')\n",
    "print('Coeefficient Correlation: %.3f'%dtrcorr)\n",
    "print('Mean Absolute Error: %.3f'%dtrmae)\n",
    "print('Mean Squre Root Error: %.3f'%dtrmsqe)\n",
    "print('Root Mean Squre Error: %.3f'%dtrrms)"
   ]
  },
  {
   "cell_type": "markdown",
   "metadata": {},
   "source": [
    "# ANN"
   ]
  },
  {
   "cell_type": "code",
   "execution_count": 37,
   "metadata": {},
   "outputs": [
    {
     "name": "stdout",
     "output_type": "stream",
     "text": [
      "1.13.1\n"
     ]
    }
   ],
   "source": [
    "import tensorflow as tf\n",
    "from tensorflow import keras\n",
    "from tensorflow.keras import layers\n",
    "\n",
    "print(tf.__version__)"
   ]
  },
  {
   "cell_type": "code",
   "execution_count": null,
   "metadata": {},
   "outputs": [],
   "source": []
  },
  {
   "cell_type": "code",
   "execution_count": null,
   "metadata": {},
   "outputs": [],
   "source": []
  },
  {
   "cell_type": "code",
   "execution_count": 38,
   "metadata": {},
   "outputs": [],
   "source": [
    "from tensorflow.keras.models import Sequential\n",
    "from tensorflow.keras.layers import Dense, Activation"
   ]
  },
  {
   "cell_type": "code",
   "execution_count": 39,
   "metadata": {},
   "outputs": [],
   "source": [
    "from tensorflow import keras\n",
    "from tensorflow.keras import layers\n",
    "from tensorflow.keras.models import Sequential"
   ]
  },
  {
   "cell_type": "code",
   "execution_count": 81,
   "metadata": {},
   "outputs": [],
   "source": [
    "X = ap.drop('user_rating',axis =1).values\n",
    "y = ap['user_rating'].values\n",
    "X = X.astype(float)\n",
    "y = y.astype(float)\n",
    "X_train, X_test, y_train, y_test = train_test_split(X,y,test_size=0.34)"
   ]
  },
  {
   "cell_type": "code",
   "execution_count": 82,
   "metadata": {},
   "outputs": [],
   "source": [
    "model = Sequential([\n",
    "    Dense(units=1),\n",
    "    Dense(units=1),\n",
    "    Dense(units=1)\n",
    "])"
   ]
  },
  {
   "cell_type": "code",
   "execution_count": 83,
   "metadata": {},
   "outputs": [],
   "source": [
    "model = Sequential()\n",
    "\n",
    "model.add(Dense(2))\n",
    "model.add(Dense(2))\n",
    "model.add(Dense(2))"
   ]
  },
  {
   "cell_type": "code",
   "execution_count": 84,
   "metadata": {},
   "outputs": [],
   "source": [
    "model = Sequential()\n",
    "\n",
    "model.add(Dense(4,activation='relu'))\n",
    "model.add(Dense(4,activation='relu'))\n",
    "model.add(Dense(4,activation='relu'))\n",
    "\n",
    "# Final output node for prediction\n",
    "model.add(Dense(1))\n",
    "\n",
    "model.compile(optimizer='rmsprop',loss='mse')"
   ]
  },
  {
   "cell_type": "code",
   "execution_count": 85,
   "metadata": {},
   "outputs": [
    {
     "name": "stdout",
     "output_type": "stream",
     "text": [
      "Epoch 1/250\n",
      "4750/4750 [==============================] - 0s 96us/sample - loss: 19776.9720\n",
      "Epoch 2/250\n",
      "4750/4750 [==============================] - 0s 38us/sample - loss: 522.9457\n",
      "Epoch 3/250\n",
      "4750/4750 [==============================] - 0s 35us/sample - loss: 52.6476\n",
      "Epoch 4/250\n",
      "4750/4750 [==============================] - 0s 31us/sample - loss: 15.9865\n",
      "Epoch 5/250\n",
      "4750/4750 [==============================] - 0s 32us/sample - loss: 12.5313\n",
      "Epoch 6/250\n",
      "4750/4750 [==============================] - 0s 43us/sample - loss: 14.8747\n",
      "Epoch 7/250\n",
      "4750/4750 [==============================] - 0s 40us/sample - loss: 10.1912\n",
      "Epoch 8/250\n",
      "4750/4750 [==============================] - 0s 42us/sample - loss: 8.4109\n",
      "Epoch 9/250\n",
      "4750/4750 [==============================] - 0s 42us/sample - loss: 11.7345\n",
      "Epoch 10/250\n",
      "4750/4750 [==============================] - 0s 52us/sample - loss: 5.8398\n",
      "Epoch 11/250\n",
      "4750/4750 [==============================] - 0s 50us/sample - loss: 4.6117\n",
      "Epoch 12/250\n",
      "4750/4750 [==============================] - 0s 41us/sample - loss: 3.7450\n",
      "Epoch 13/250\n",
      "4750/4750 [==============================] - 0s 39us/sample - loss: 3.5815\n",
      "Epoch 14/250\n",
      "4750/4750 [==============================] - 0s 39us/sample - loss: 3.5039\n",
      "Epoch 15/250\n",
      "4750/4750 [==============================] - 0s 35us/sample - loss: 2.6285\n",
      "Epoch 16/250\n",
      "4750/4750 [==============================] - 0s 40us/sample - loss: 2.7689\n",
      "Epoch 17/250\n",
      "4750/4750 [==============================] - 0s 43us/sample - loss: 2.6883\n",
      "Epoch 18/250\n",
      "4750/4750 [==============================] - 0s 34us/sample - loss: 2.5712\n",
      "Epoch 19/250\n",
      "4750/4750 [==============================] - 0s 32us/sample - loss: 2.5455\n",
      "Epoch 20/250\n",
      "4750/4750 [==============================] - 0s 31us/sample - loss: 2.9317\n",
      "Epoch 21/250\n",
      "4750/4750 [==============================] - 0s 33us/sample - loss: 2.3430\n",
      "Epoch 22/250\n",
      "4750/4750 [==============================] - 0s 31us/sample - loss: 2.6451\n",
      "Epoch 23/250\n",
      "4750/4750 [==============================] - 0s 31us/sample - loss: 2.2431\n",
      "Epoch 24/250\n",
      "4750/4750 [==============================] - 0s 32us/sample - loss: 2.3919\n",
      "Epoch 25/250\n",
      "4750/4750 [==============================] - 0s 33us/sample - loss: 2.2544\n",
      "Epoch 26/250\n",
      "4750/4750 [==============================] - 0s 34us/sample - loss: 2.3909\n",
      "Epoch 27/250\n",
      "4750/4750 [==============================] - 0s 35us/sample - loss: 2.3898\n",
      "Epoch 28/250\n",
      "4750/4750 [==============================] - 0s 32us/sample - loss: 2.3273\n",
      "Epoch 29/250\n",
      "4750/4750 [==============================] - 0s 36us/sample - loss: 2.9696\n",
      "Epoch 30/250\n",
      "4750/4750 [==============================] - 0s 37us/sample - loss: 2.1598\n",
      "Epoch 31/250\n",
      "4750/4750 [==============================] - 0s 38us/sample - loss: 2.3219\n",
      "Epoch 32/250\n",
      "4750/4750 [==============================] - 0s 36us/sample - loss: 2.2740\n",
      "Epoch 33/250\n",
      "4750/4750 [==============================] - 0s 33us/sample - loss: 2.2872\n",
      "Epoch 34/250\n",
      "4750/4750 [==============================] - 0s 34us/sample - loss: 2.1514\n",
      "Epoch 35/250\n",
      "4750/4750 [==============================] - 0s 51us/sample - loss: 2.1736\n",
      "Epoch 36/250\n",
      "4750/4750 [==============================] - 0s 42us/sample - loss: 2.3072\n",
      "Epoch 37/250\n",
      "4750/4750 [==============================] - 0s 49us/sample - loss: 2.1697\n",
      "Epoch 38/250\n",
      "4750/4750 [==============================] - 0s 43us/sample - loss: 2.1312\n",
      "Epoch 39/250\n",
      "4750/4750 [==============================] - 0s 34us/sample - loss: 2.2205\n",
      "Epoch 40/250\n",
      "4750/4750 [==============================] - 0s 34us/sample - loss: 2.9154\n",
      "Epoch 41/250\n",
      "4750/4750 [==============================] - 0s 32us/sample - loss: 2.0783\n",
      "Epoch 42/250\n",
      "4750/4750 [==============================] - 0s 34us/sample - loss: 2.5127\n",
      "Epoch 43/250\n",
      "4750/4750 [==============================] - 0s 32us/sample - loss: 2.0984\n",
      "Epoch 44/250\n",
      "4750/4750 [==============================] - 0s 32us/sample - loss: 2.2017\n",
      "Epoch 45/250\n",
      "4750/4750 [==============================] - 0s 32us/sample - loss: 2.1703\n",
      "Epoch 46/250\n",
      "4750/4750 [==============================] - 0s 31us/sample - loss: 2.0539\n",
      "Epoch 47/250\n",
      "4750/4750 [==============================] - 0s 33us/sample - loss: 2.0689\n",
      "Epoch 48/250\n",
      "4750/4750 [==============================] - 0s 34us/sample - loss: 2.3582\n",
      "Epoch 49/250\n",
      "4750/4750 [==============================] - 0s 35us/sample - loss: 2.0942\n",
      "Epoch 50/250\n",
      "4750/4750 [==============================] - 0s 32us/sample - loss: 2.0063\n",
      "Epoch 51/250\n",
      "4750/4750 [==============================] - 0s 32us/sample - loss: 2.1134\n",
      "Epoch 52/250\n",
      "4750/4750 [==============================] - 0s 32us/sample - loss: 2.0515\n",
      "Epoch 53/250\n",
      "4750/4750 [==============================] - 0s 34us/sample - loss: 2.1567\n",
      "Epoch 54/250\n",
      "4750/4750 [==============================] - 0s 32us/sample - loss: 2.1236\n",
      "Epoch 55/250\n",
      "4750/4750 [==============================] - 0s 34us/sample - loss: 2.0563\n",
      "Epoch 56/250\n",
      "4750/4750 [==============================] - 0s 30us/sample - loss: 1.9591\n",
      "Epoch 57/250\n",
      "4750/4750 [==============================] - 0s 30us/sample - loss: 2.0143\n",
      "Epoch 58/250\n",
      "4750/4750 [==============================] - 0s 32us/sample - loss: 1.9691\n",
      "Epoch 59/250\n",
      "4750/4750 [==============================] - 0s 30us/sample - loss: 2.0814\n",
      "Epoch 60/250\n",
      "4750/4750 [==============================] - 0s 32us/sample - loss: 1.9587\n",
      "Epoch 61/250\n",
      "4750/4750 [==============================] - 0s 32us/sample - loss: 2.0704\n",
      "Epoch 62/250\n",
      "4750/4750 [==============================] - 0s 30us/sample - loss: 2.2262\n",
      "Epoch 63/250\n",
      "4750/4750 [==============================] - 0s 32us/sample - loss: 2.0039\n",
      "Epoch 64/250\n",
      "4750/4750 [==============================] - 0s 34us/sample - loss: 2.5164\n",
      "Epoch 65/250\n",
      "4750/4750 [==============================] - 0s 31us/sample - loss: 2.0185\n",
      "Epoch 66/250\n",
      "4750/4750 [==============================] - 0s 32us/sample - loss: 1.9436\n",
      "Epoch 67/250\n",
      "4750/4750 [==============================] - 0s 33us/sample - loss: 1.9231\n",
      "Epoch 68/250\n",
      "4750/4750 [==============================] - 0s 32us/sample - loss: 1.9801\n",
      "Epoch 69/250\n",
      "4750/4750 [==============================] - 0s 33us/sample - loss: 1.9255\n",
      "Epoch 70/250\n",
      "4750/4750 [==============================] - 0s 42us/sample - loss: 1.8698\n",
      "Epoch 71/250\n",
      "4750/4750 [==============================] - 0s 35us/sample - loss: 1.8345\n",
      "Epoch 72/250\n",
      "4750/4750 [==============================] - 0s 30us/sample - loss: 1.9309\n",
      "Epoch 73/250\n",
      "4750/4750 [==============================] - 0s 45us/sample - loss: 2.1660\n",
      "Epoch 74/250\n",
      "4750/4750 [==============================] - 0s 38us/sample - loss: 2.2254\n",
      "Epoch 75/250\n",
      "4750/4750 [==============================] - 0s 34us/sample - loss: 2.60060s - loss: 2.599\n",
      "Epoch 76/250\n",
      "4750/4750 [==============================] - 0s 31us/sample - loss: 1.8225\n",
      "Epoch 77/250\n",
      "4750/4750 [==============================] - 0s 32us/sample - loss: 1.9293\n",
      "Epoch 78/250\n",
      "4750/4750 [==============================] - 0s 35us/sample - loss: 2.0461\n",
      "Epoch 79/250\n",
      "4750/4750 [==============================] - 0s 30us/sample - loss: 1.9582\n",
      "Epoch 80/250\n",
      "4750/4750 [==============================] - 0s 34us/sample - loss: 1.9147\n",
      "Epoch 81/250\n",
      "4750/4750 [==============================] - 0s 36us/sample - loss: 1.8834\n",
      "Epoch 82/250\n",
      "4750/4750 [==============================] - 0s 32us/sample - loss: 2.0318\n",
      "Epoch 83/250\n",
      "4750/4750 [==============================] - 0s 31us/sample - loss: 1.8407\n",
      "Epoch 84/250\n",
      "4750/4750 [==============================] - 0s 35us/sample - loss: 2.0118\n",
      "Epoch 85/250\n",
      "4750/4750 [==============================] - 0s 33us/sample - loss: 1.8889\n",
      "Epoch 86/250\n",
      "4750/4750 [==============================] - 0s 32us/sample - loss: 1.9826\n",
      "Epoch 87/250\n",
      "4750/4750 [==============================] - 0s 34us/sample - loss: 1.8661\n",
      "Epoch 88/250\n",
      "4750/4750 [==============================] - 0s 39us/sample - loss: 2.1177\n",
      "Epoch 89/250\n",
      "4750/4750 [==============================] - 0s 33us/sample - loss: 1.9645\n",
      "Epoch 90/250\n",
      "4750/4750 [==============================] - 0s 30us/sample - loss: 2.0436\n",
      "Epoch 91/250\n",
      "4750/4750 [==============================] - 0s 31us/sample - loss: 1.7650\n",
      "Epoch 92/250\n",
      "4750/4750 [==============================] - 0s 32us/sample - loss: 1.7538\n",
      "Epoch 93/250\n"
     ]
    },
    {
     "name": "stdout",
     "output_type": "stream",
     "text": [
      "4750/4750 [==============================] - 0s 31us/sample - loss: 2.5154\n",
      "Epoch 94/250\n",
      "4750/4750 [==============================] - 0s 30us/sample - loss: 1.6777\n",
      "Epoch 95/250\n",
      "4750/4750 [==============================] - 0s 32us/sample - loss: 8.3012\n",
      "Epoch 96/250\n",
      "4750/4750 [==============================] - 0s 44us/sample - loss: 1.8254\n",
      "Epoch 97/250\n",
      "4750/4750 [==============================] - 0s 35us/sample - loss: 1.8161\n",
      "Epoch 98/250\n",
      "4750/4750 [==============================] - 0s 29us/sample - loss: 2.3564\n",
      "Epoch 99/250\n",
      "4750/4750 [==============================] - 0s 31us/sample - loss: 1.8442\n",
      "Epoch 100/250\n",
      "4750/4750 [==============================] - 0s 30us/sample - loss: 1.8080\n",
      "Epoch 101/250\n",
      "4750/4750 [==============================] - 0s 31us/sample - loss: 2.1202\n",
      "Epoch 102/250\n",
      "4750/4750 [==============================] - 0s 41us/sample - loss: 1.7353\n",
      "Epoch 103/250\n",
      "4750/4750 [==============================] - 0s 39us/sample - loss: 1.8694\n",
      "Epoch 104/250\n",
      "4750/4750 [==============================] - 0s 40us/sample - loss: 1.6552\n",
      "Epoch 105/250\n",
      "4750/4750 [==============================] - 0s 43us/sample - loss: 2.0144\n",
      "Epoch 106/250\n",
      "4750/4750 [==============================] - 0s 41us/sample - loss: 1.9053\n",
      "Epoch 107/250\n",
      "4750/4750 [==============================] - 0s 41us/sample - loss: 1.5891\n",
      "Epoch 108/250\n",
      "4750/4750 [==============================] - 0s 40us/sample - loss: 1.7530\n",
      "Epoch 109/250\n",
      "4750/4750 [==============================] - 0s 34us/sample - loss: 1.7004\n",
      "Epoch 110/250\n",
      "4750/4750 [==============================] - 0s 35us/sample - loss: 1.7032\n",
      "Epoch 111/250\n",
      "4750/4750 [==============================] - 0s 30us/sample - loss: 1.9191\n",
      "Epoch 112/250\n",
      "4750/4750 [==============================] - 0s 41us/sample - loss: 1.5764\n",
      "Epoch 113/250\n",
      "4750/4750 [==============================] - 0s 45us/sample - loss: 1.8942\n",
      "Epoch 114/250\n",
      "4750/4750 [==============================] - 0s 35us/sample - loss: 1.7197\n",
      "Epoch 115/250\n",
      "4750/4750 [==============================] - 0s 34us/sample - loss: 1.7380\n",
      "Epoch 116/250\n",
      "4750/4750 [==============================] - 0s 33us/sample - loss: 1.6985\n",
      "Epoch 117/250\n",
      "4750/4750 [==============================] - 0s 31us/sample - loss: 1.6153\n",
      "Epoch 118/250\n",
      "4750/4750 [==============================] - 0s 33us/sample - loss: 1.6467\n",
      "Epoch 119/250\n",
      "4750/4750 [==============================] - 0s 30us/sample - loss: 1.6773\n",
      "Epoch 120/250\n",
      "4750/4750 [==============================] - 0s 35us/sample - loss: 1.6882\n",
      "Epoch 121/250\n",
      "4750/4750 [==============================] - 0s 31us/sample - loss: 2.6321\n",
      "Epoch 122/250\n",
      "4750/4750 [==============================] - 0s 32us/sample - loss: 1.5820\n",
      "Epoch 123/250\n",
      "4750/4750 [==============================] - 0s 30us/sample - loss: 3.5639\n",
      "Epoch 124/250\n",
      "4750/4750 [==============================] - 0s 31us/sample - loss: 2.0025\n",
      "Epoch 125/250\n",
      "4750/4750 [==============================] - 0s 31us/sample - loss: 2.3734\n",
      "Epoch 126/250\n",
      "4750/4750 [==============================] - 0s 30us/sample - loss: 1.6415\n",
      "Epoch 127/250\n",
      "4750/4750 [==============================] - 0s 32us/sample - loss: 1.4606\n",
      "Epoch 128/250\n",
      "4750/4750 [==============================] - 0s 30us/sample - loss: 2.4088\n",
      "Epoch 129/250\n",
      "4750/4750 [==============================] - 0s 36us/sample - loss: 1.4332\n",
      "Epoch 130/250\n",
      "4750/4750 [==============================] - 0s 30us/sample - loss: 1.5611\n",
      "Epoch 131/250\n",
      "4750/4750 [==============================] - 0s 31us/sample - loss: 1.4522\n",
      "Epoch 132/250\n",
      "4750/4750 [==============================] - 0s 31us/sample - loss: 1.7842\n",
      "Epoch 133/250\n",
      "4750/4750 [==============================] - 0s 31us/sample - loss: 1.4861\n",
      "Epoch 134/250\n",
      "4750/4750 [==============================] - 0s 31us/sample - loss: 1.4391\n",
      "Epoch 135/250\n",
      "4750/4750 [==============================] - 0s 33us/sample - loss: 1.4380\n",
      "Epoch 136/250\n",
      "4750/4750 [==============================] - 0s 30us/sample - loss: 1.7088\n",
      "Epoch 137/250\n",
      "4750/4750 [==============================] - 0s 31us/sample - loss: 1.4457\n",
      "Epoch 138/250\n",
      "4750/4750 [==============================] - 0s 34us/sample - loss: 1.4732\n",
      "Epoch 139/250\n",
      "4750/4750 [==============================] - 0s 32us/sample - loss: 1.6386\n",
      "Epoch 140/250\n",
      "4750/4750 [==============================] - 0s 34us/sample - loss: 1.5410\n",
      "Epoch 141/250\n",
      "4750/4750 [==============================] - 0s 30us/sample - loss: 2.0814\n",
      "Epoch 142/250\n",
      "4750/4750 [==============================] - 0s 36us/sample - loss: 1.4288\n",
      "Epoch 143/250\n",
      "4750/4750 [==============================] - 0s 34us/sample - loss: 1.6665\n",
      "Epoch 144/250\n",
      "4750/4750 [==============================] - 0s 41us/sample - loss: 1.8400\n",
      "Epoch 145/250\n",
      "4750/4750 [==============================] - 0s 32us/sample - loss: 1.5101\n",
      "Epoch 146/250\n",
      "4750/4750 [==============================] - 0s 34us/sample - loss: 1.5612\n",
      "Epoch 147/250\n",
      "4750/4750 [==============================] - 0s 34us/sample - loss: 1.4165\n",
      "Epoch 148/250\n",
      "4750/4750 [==============================] - 0s 32us/sample - loss: 1.3897\n",
      "Epoch 149/250\n",
      "4750/4750 [==============================] - 0s 30us/sample - loss: 1.4804\n",
      "Epoch 150/250\n",
      "4750/4750 [==============================] - 0s 30us/sample - loss: 1.5934\n",
      "Epoch 151/250\n",
      "4750/4750 [==============================] - 0s 31us/sample - loss: 1.3296\n",
      "Epoch 152/250\n",
      "4750/4750 [==============================] - 0s 31us/sample - loss: 1.5909\n",
      "Epoch 153/250\n",
      "4750/4750 [==============================] - 0s 32us/sample - loss: 1.5410\n",
      "Epoch 154/250\n",
      "4750/4750 [==============================] - 0s 34us/sample - loss: 1.3657\n",
      "Epoch 155/250\n",
      "4750/4750 [==============================] - 0s 32us/sample - loss: 1.4186\n",
      "Epoch 156/250\n",
      "4750/4750 [==============================] - 0s 34us/sample - loss: 1.5323\n",
      "Epoch 157/250\n",
      "4750/4750 [==============================] - ETA: 0s - loss: 1.358 - 0s 36us/sample - loss: 1.3431\n",
      "Epoch 158/250\n",
      "4750/4750 [==============================] - 0s 30us/sample - loss: 1.6232\n",
      "Epoch 159/250\n",
      "4750/4750 [==============================] - 0s 32us/sample - loss: 1.5003\n",
      "Epoch 160/250\n",
      "4750/4750 [==============================] - 0s 38us/sample - loss: 1.4499\n",
      "Epoch 161/250\n",
      "4750/4750 [==============================] - 0s 36us/sample - loss: 2.2951\n",
      "Epoch 162/250\n",
      "4750/4750 [==============================] - 0s 33us/sample - loss: 1.4388\n",
      "Epoch 163/250\n",
      "4750/4750 [==============================] - 0s 32us/sample - loss: 1.3268\n",
      "Epoch 164/250\n",
      "4750/4750 [==============================] - 0s 35us/sample - loss: 1.5252\n",
      "Epoch 165/250\n",
      "4750/4750 [==============================] - 0s 32us/sample - loss: 1.3843\n",
      "Epoch 166/250\n",
      "4750/4750 [==============================] - 0s 32us/sample - loss: 1.3299\n",
      "Epoch 167/250\n",
      "4750/4750 [==============================] - 0s 34us/sample - loss: 2.3060\n",
      "Epoch 168/250\n",
      "4750/4750 [==============================] - 0s 33us/sample - loss: 1.3669\n",
      "Epoch 169/250\n",
      "4750/4750 [==============================] - 0s 34us/sample - loss: 1.3538\n",
      "Epoch 170/250\n",
      "4750/4750 [==============================] - 0s 32us/sample - loss: 1.2837\n",
      "Epoch 171/250\n",
      "4750/4750 [==============================] - 0s 32us/sample - loss: 1.4208\n",
      "Epoch 172/250\n",
      "4750/4750 [==============================] - 0s 35us/sample - loss: 1.5929\n",
      "Epoch 173/250\n",
      "4750/4750 [==============================] - 0s 34us/sample - loss: 1.6069\n",
      "Epoch 174/250\n",
      "4750/4750 [==============================] - 0s 32us/sample - loss: 1.4332\n",
      "Epoch 175/250\n",
      "4750/4750 [==============================] - 0s 35us/sample - loss: 2.3707\n",
      "Epoch 176/250\n",
      "4750/4750 [==============================] - 0s 35us/sample - loss: 1.3956\n",
      "Epoch 177/250\n",
      "4750/4750 [==============================] - 0s 32us/sample - loss: 1.5030\n",
      "Epoch 178/250\n",
      "4750/4750 [==============================] - 0s 31us/sample - loss: 2.1919\n",
      "Epoch 179/250\n",
      "4750/4750 [==============================] - 0s 35us/sample - loss: 1.2622\n",
      "Epoch 180/250\n",
      "4750/4750 [==============================] - 0s 34us/sample - loss: 1.2382\n",
      "Epoch 181/250\n",
      "4750/4750 [==============================] - 0s 33us/sample - loss: 1.5722\n",
      "Epoch 182/250\n",
      "4750/4750 [==============================] - 0s 31us/sample - loss: 1.2979\n",
      "Epoch 183/250\n",
      "4750/4750 [==============================] - 0s 31us/sample - loss: 1.2551\n",
      "Epoch 184/250\n",
      "4750/4750 [==============================] - 0s 32us/sample - loss: 1.4187\n",
      "Epoch 185/250\n"
     ]
    },
    {
     "name": "stdout",
     "output_type": "stream",
     "text": [
      "4750/4750 [==============================] - 0s 32us/sample - loss: 1.2614\n",
      "Epoch 186/250\n",
      "4750/4750 [==============================] - 0s 31us/sample - loss: 1.3673\n",
      "Epoch 187/250\n",
      "4750/4750 [==============================] - 0s 30us/sample - loss: 1.3651\n",
      "Epoch 188/250\n",
      "4750/4750 [==============================] - 0s 30us/sample - loss: 3.9079\n",
      "Epoch 189/250\n",
      "4750/4750 [==============================] - 0s 30us/sample - loss: 1.2169\n",
      "Epoch 190/250\n",
      "4750/4750 [==============================] - 0s 35us/sample - loss: 2.4815\n",
      "Epoch 191/250\n",
      "4750/4750 [==============================] - 0s 39us/sample - loss: 1.3107\n",
      "Epoch 192/250\n",
      "4750/4750 [==============================] - 0s 36us/sample - loss: 1.3379\n",
      "Epoch 193/250\n",
      "4750/4750 [==============================] - 0s 32us/sample - loss: 1.3852\n",
      "Epoch 194/250\n",
      "4750/4750 [==============================] - 0s 29us/sample - loss: 1.2609\n",
      "Epoch 195/250\n",
      "4750/4750 [==============================] - 0s 50us/sample - loss: 1.1717\n",
      "Epoch 196/250\n",
      "4750/4750 [==============================] - 0s 42us/sample - loss: 1.2000\n",
      "Epoch 197/250\n",
      "4750/4750 [==============================] - 0s 34us/sample - loss: 6.0561\n",
      "Epoch 198/250\n",
      "4750/4750 [==============================] - 0s 33us/sample - loss: 1.0553\n",
      "Epoch 199/250\n",
      "4750/4750 [==============================] - 0s 30us/sample - loss: 1.4639\n",
      "Epoch 200/250\n",
      "4750/4750 [==============================] - 0s 53us/sample - loss: 1.2088\n",
      "Epoch 201/250\n",
      "4750/4750 [==============================] - 0s 44us/sample - loss: 1.4531\n",
      "Epoch 202/250\n",
      "4750/4750 [==============================] - 0s 40us/sample - loss: 1.5144\n",
      "Epoch 203/250\n",
      "4750/4750 [==============================] - 0s 48us/sample - loss: 1.4413\n",
      "Epoch 204/250\n",
      "4750/4750 [==============================] - 0s 43us/sample - loss: 1.1593\n",
      "Epoch 205/250\n",
      "4750/4750 [==============================] - 0s 47us/sample - loss: 1.3435\n",
      "Epoch 206/250\n",
      "4750/4750 [==============================] - 0s 41us/sample - loss: 1.1152\n",
      "Epoch 207/250\n",
      "4750/4750 [==============================] - 0s 38us/sample - loss: 1.1494\n",
      "Epoch 208/250\n",
      "4750/4750 [==============================] - 0s 39us/sample - loss: 3.8415\n",
      "Epoch 209/250\n",
      "4750/4750 [==============================] - 0s 34us/sample - loss: 1.2819\n",
      "Epoch 210/250\n",
      "4750/4750 [==============================] - 0s 41us/sample - loss: 1.2647\n",
      "Epoch 211/250\n",
      "4750/4750 [==============================] - 0s 43us/sample - loss: 1.2058\n",
      "Epoch 212/250\n",
      "4750/4750 [==============================] - 0s 36us/sample - loss: 1.6259\n",
      "Epoch 213/250\n",
      "4750/4750 [==============================] - 0s 41us/sample - loss: 1.1919\n",
      "Epoch 214/250\n",
      "4750/4750 [==============================] - 0s 34us/sample - loss: 1.2242\n",
      "Epoch 215/250\n",
      "4750/4750 [==============================] - 0s 31us/sample - loss: 1.3367\n",
      "Epoch 216/250\n",
      "4750/4750 [==============================] - 0s 34us/sample - loss: 4.1799\n",
      "Epoch 217/250\n",
      "4750/4750 [==============================] - 0s 30us/sample - loss: 1.2787\n",
      "Epoch 218/250\n",
      "4750/4750 [==============================] - 0s 31us/sample - loss: 1.2416\n",
      "Epoch 219/250\n",
      "4750/4750 [==============================] - 0s 31us/sample - loss: 2.0993\n",
      "Epoch 220/250\n",
      "4750/4750 [==============================] - 0s 31us/sample - loss: 3.2954\n",
      "Epoch 221/250\n",
      "4750/4750 [==============================] - 0s 31us/sample - loss: 1.0358\n",
      "Epoch 222/250\n",
      "4750/4750 [==============================] - 0s 32us/sample - loss: 1.1162\n",
      "Epoch 223/250\n",
      "4750/4750 [==============================] - 0s 32us/sample - loss: 1.3218\n",
      "Epoch 224/250\n",
      "4750/4750 [==============================] - 0s 35us/sample - loss: 1.1513\n",
      "Epoch 225/250\n",
      "4750/4750 [==============================] - 0s 35us/sample - loss: 1.4299\n",
      "Epoch 226/250\n",
      "4750/4750 [==============================] - 0s 32us/sample - loss: 1.7021\n",
      "Epoch 227/250\n",
      "4750/4750 [==============================] - 0s 31us/sample - loss: 1.2165\n",
      "Epoch 228/250\n",
      "4750/4750 [==============================] - 0s 38us/sample - loss: 1.4223\n",
      "Epoch 229/250\n",
      "4750/4750 [==============================] - 0s 32us/sample - loss: 2.8347\n",
      "Epoch 230/250\n",
      "4750/4750 [==============================] - 0s 31us/sample - loss: 1.5000\n",
      "Epoch 231/250\n",
      "4750/4750 [==============================] - 0s 31us/sample - loss: 1.4531\n",
      "Epoch 232/250\n",
      "4750/4750 [==============================] - 0s 34us/sample - loss: 1.0932\n",
      "Epoch 233/250\n",
      "4750/4750 [==============================] - 0s 31us/sample - loss: 1.0927\n",
      "Epoch 234/250\n",
      "4750/4750 [==============================] - 0s 30us/sample - loss: 1.0769\n",
      "Epoch 235/250\n",
      "4750/4750 [==============================] - 0s 31us/sample - loss: 1.1404\n",
      "Epoch 236/250\n",
      "4750/4750 [==============================] - 0s 33us/sample - loss: 1.1960\n",
      "Epoch 237/250\n",
      "4750/4750 [==============================] - 0s 36us/sample - loss: 1.1128\n",
      "Epoch 238/250\n",
      "4750/4750 [==============================] - 0s 33us/sample - loss: 1.1912\n",
      "Epoch 239/250\n",
      "4750/4750 [==============================] - 0s 34us/sample - loss: 1.0543\n",
      "Epoch 240/250\n",
      "4750/4750 [==============================] - 0s 31us/sample - loss: 1.3428\n",
      "Epoch 241/250\n",
      "4750/4750 [==============================] - 0s 31us/sample - loss: 1.0196\n",
      "Epoch 242/250\n",
      "4750/4750 [==============================] - 0s 32us/sample - loss: 1.4469\n",
      "Epoch 243/250\n",
      "4750/4750 [==============================] - 0s 31us/sample - loss: 1.0714\n",
      "Epoch 244/250\n",
      "4750/4750 [==============================] - 0s 31us/sample - loss: 1.2227\n",
      "Epoch 245/250\n",
      "4750/4750 [==============================] - 0s 35us/sample - loss: 1.3121\n",
      "Epoch 246/250\n",
      "4750/4750 [==============================] - 0s 31us/sample - loss: 1.1067\n",
      "Epoch 247/250\n",
      "4750/4750 [==============================] - 0s 33us/sample - loss: 1.2114\n",
      "Epoch 248/250\n",
      "4750/4750 [==============================] - 0s 34us/sample - loss: 1.4416\n",
      "Epoch 249/250\n",
      "4750/4750 [==============================] - 0s 32us/sample - loss: 2.1154\n",
      "Epoch 250/250\n",
      "4750/4750 [==============================] - 0s 32us/sample - loss: 1.2151\n"
     ]
    },
    {
     "data": {
      "text/plain": [
       "<tensorflow.python.keras.callbacks.History at 0x285b508a748>"
      ]
     },
     "execution_count": 85,
     "metadata": {},
     "output_type": "execute_result"
    }
   ],
   "source": [
    "model.fit(X_train,y_train,epochs=250)"
   ]
  },
  {
   "cell_type": "code",
   "execution_count": 86,
   "metadata": {},
   "outputs": [],
   "source": [
    "predtf = model.predict(X_test)\n"
   ]
  },
  {
   "cell_type": "code",
   "execution_count": 88,
   "metadata": {},
   "outputs": [],
   "source": [
    "from itertools import chain\n",
    "predtf = list(chain(*predtf))\n",
    "predtf = np.array(predtf)\n"
   ]
  },
  {
   "cell_type": "code",
   "execution_count": 89,
   "metadata": {},
   "outputs": [
    {
     "data": {
      "text/plain": [
       "array([4.257847 , 4.6639876, 1.3026108, ..., 4.6456866, 4.5599093,\n",
       "       4.1641645], dtype=float32)"
      ]
     },
     "execution_count": 89,
     "metadata": {},
     "output_type": "execute_result"
    }
   ],
   "source": [
    "predtf"
   ]
  },
  {
   "cell_type": "code",
   "execution_count": 92,
   "metadata": {},
   "outputs": [],
   "source": [
    "tfmae=mean_absolute_error(y_test, predtf).round(3)\n",
    "tfmsqe=mean_squared_error(y_test, predtf)\n",
    "tfrms = sqrt(mean_squared_error(y_test, predtf))\n",
    "tfcorr, _ = pearsonr(predtf, y_test)"
   ]
  },
  {
   "cell_type": "code",
   "execution_count": 167,
   "metadata": {},
   "outputs": [
    {
     "name": "stdout",
     "output_type": "stream",
     "text": [
      "ANN\n",
      "Pearsons correlation: 0.788\n",
      "Mean Absolute Error: 0.671\n",
      "Mean Squre Root Error: 0.831\n",
      "Root Mean Squre Error: 0.912\n"
     ]
    }
   ],
   "source": [
    "print('ANN')\n",
    "print('Pearsons correlation: %.3f' % tfcorr)\n",
    "print('Mean Absolute Error: %.3f'%tfmae)\n",
    "print('Mean Squre Root Error: %.3f'%tfmsqe)\n",
    "print('Root Mean Squre Error: %.3f'%tfrms)\n"
   ]
  },
  {
   "cell_type": "markdown",
   "metadata": {},
   "source": [
    "# Random Forest"
   ]
  },
  {
   "cell_type": "code",
   "execution_count": 168,
   "metadata": {},
   "outputs": [
    {
     "name": "stdout",
     "output_type": "stream",
     "text": [
      "Random Forest\n",
      "Pearsons correlation: 0.954\n",
      "Mean Absolute Error: 0.286\n",
      "Mean Squre Root Error: 0.217\n",
      "Root Mean Squre Error: 0.466\n"
     ]
    }
   ],
   "source": [
    "from sklearn.ensemble import RandomForestRegressor\n",
    "rfc = RandomForestRegressor(n_estimators=600)\n",
    "rfc.fit(X_train,y_train)\n",
    "\n",
    "rfpred = rfc.predict(X_test)\n",
    "rfmae=mean_absolute_error(y_test, rfpred).round(3)\n",
    "rfmsqe=mean_squared_error(y_test, rfpred)\n",
    "rfrms = sqrt(mean_squared_error(y_test, rfpred))\n",
    "rfcorr, _ = pearsonr(rfpred, y_test)\n",
    "print('Random Forest')\n",
    "print('Pearsons correlation: %.3f' % rfcorr)\n",
    "print('Mean Absolute Error: %.3f'%rfmae)\n",
    "print('Mean Squre Root Error: %.3f'%rfmsqe)\n",
    "print('Root Mean Squre Error: %.3f'%rfrms)"
   ]
  },
  {
   "cell_type": "markdown",
   "metadata": {},
   "source": [
    "# Result"
   ]
  },
  {
   "cell_type": "code",
   "execution_count": 162,
   "metadata": {},
   "outputs": [
    {
     "data": {
      "text/plain": [
       "Text(0.5, 1.0, 'Correlation Coefficient ')"
      ]
     },
     "execution_count": 162,
     "metadata": {},
     "output_type": "execute_result"
    },
    {
     "data": {
      "image/png": "[encoded data removed]",
      "text/plain": [
       "<Figure size 432x288 with 1 Axes>"
      ]
     },
     "metadata": {
      "needs_background": "light"
     },
     "output_type": "display_data"
    }
   ],
   "source": [
    "corrobjects = ('LR', 'DT', 'SVM', 'ANN','RF')\n",
    "y_pos = np.arange(len(corrobjects))\n",
    "corrperformance = [lmcorr,dtrcorr,svmcorr,tfcorr,rfcorr]\n",
    "plt.bar(y_pos, corrperformance, align='center',)\n",
    "plt.xticks(y_pos, objects)\n",
    "plt.ylabel('corr value')\n",
    "plt.title('Correlation Coefficient ')"
   ]
  },
  {
   "cell_type": "code",
   "execution_count": 156,
   "metadata": {},
   "outputs": [
    {
     "data": {
      "text/plain": [
       "Text(0.5, 1.0, 'Mean Abs Error ')"
      ]
     },
     "execution_count": 156,
     "metadata": {},
     "output_type": "execute_result"
    },
    {
     "data": {
      "image/png": "[encoded data removed]",
      "text/plain": [
       "<Figure size 432x288 with 1 Axes>"
      ]
     },
     "metadata": {
      "needs_background": "light"
     },
     "output_type": "display_data"
    }
   ],
   "source": [
    "maeobjects = ('LR', 'RF', 'SVM', 'ANN','RF')\n",
    "y_pos = np.arange(len(maeobjects))\n",
    "maeperformance = [lmmae,rfmae,svmmae,tfmae,rfmae]\n",
    "plt.bar(y_pos, maeperformance, align='center', alpha=0.5)\n",
    "plt.xticks(y_pos, objects)\n",
    "plt.ylabel('mae')\n",
    "plt.title('Mean Abs Error ')"
   ]
  },
  {
   "cell_type": "code",
   "execution_count": 157,
   "metadata": {},
   "outputs": [
    {
     "data": {
      "text/plain": [
       "Text(0.5, 1.0, 'Mean sqrt Error ')"
      ]
     },
     "execution_count": 157,
     "metadata": {},
     "output_type": "execute_result"
    },
    {
     "data": {
      "image/png": "[encoded data removed]",
      "text/plain": [
       "<Figure size 432x288 with 1 Axes>"
      ]
     },
     "metadata": {
      "needs_background": "light"
     },
     "output_type": "display_data"
    }
   ],
   "source": [
    "msqrtobjects = ('LR', 'RF', 'SVM', 'ANN','RF')\n",
    "y_pos = np.arange(len(msqrtobjects))\n",
    "msqrtperformance = [lmmsqe,rfmsqe,svmmsqe,tfmsqe,rfmsqe]\n",
    "plt.bar(y_pos, msqrtperformance, align='center', alpha=0.5)\n",
    "plt.xticks(y_pos, objects)\n",
    "plt.ylabel('MSRE')\n",
    "plt.title('Mean sqrt Error ')"
   ]
  },
  {
   "cell_type": "code",
   "execution_count": 158,
   "metadata": {},
   "outputs": [
    {
     "data": {
      "text/plain": [
       "Text(0.5, 1.0, 'Root Mean sqrt Error ')"
      ]
     },
     "execution_count": 158,
     "metadata": {},
     "output_type": "execute_result"
    },
    {
     "data": {
      "image/png": "[encoded data removed]",
      "text/plain": [
       "<Figure size 432x288 with 1 Axes>"
      ]
     },
     "metadata": {
      "needs_background": "light"
     },
     "output_type": "display_data"
    }
   ],
   "source": [
    "rmsqrtobjects = ('LR', 'RF', 'SVM', 'ANN','RF')\n",
    "y_pos = np.arange(len(rmsqrtobjects))\n",
    "rmsqrtperformance = [lmrms,rfrms,svmrms,tfrms,rfrms]\n",
    "plt.bar(y_pos, rmsqrtperformance, align='center', alpha=0.5)\n",
    "plt.xticks(y_pos, objects)\n",
    "plt.ylabel('RMS')\n",
    "plt.title('Root Mean sqrt Error ')"
   ]
  },
  {
   "cell_type": "markdown",
   "metadata": {},
   "source": [
    "# Random Forest gives the best result with highest Correlation Coefficient and less errors"
   ]
  },
  {
   "cell_type": "code",
   "execution_count": null,
   "metadata": {},
   "outputs": [],
   "source": []
  },
  {
   "cell_type": "code",
   "execution_count": null,
   "metadata": {},
   "outputs": [],
   "source": []
  },
  {
   "cell_type": "code",
   "execution_count": null,
   "metadata": {},
   "outputs": [],
   "source": []
  },
  {
   "cell_type": "code",
   "execution_count": null,
   "metadata": {},
   "outputs": [],
   "source": [
    "\n"
   ]
  },
  {
   "cell_type": "code",
   "execution_count": null,
   "metadata": {},
   "outputs": [],
   "source": []
  },
  {
   "cell_type": "code",
   "execution_count": null,
   "metadata": {},
   "outputs": [],
   "source": []
  },
  {
   "cell_type": "code",
   "execution_count": null,
   "metadata": {},
   "outputs": [],
   "source": []
  },
  {
   "cell_type": "code",
   "execution_count": null,
   "metadata": {},
   "outputs": [],
   "source": []
  }
 ],
 "metadata": {
  "kernelspec": {
   "display_name": "Python 3",
   "language": "python",
   "name": "python3"
  },
  "language_info": {
   "codemirror_mode": {
    "name": "ipython",
    "version": 3
   },
   "file_extension": ".py",
   "mimetype": "text/x-python",
   "name": "python",
   "nbconvert_exporter": "python",
   "pygments_lexer": "ipython3",
   "version": "3.7.4"
  }
 },
 "nbformat": 4,
 "nbformat_minor": 2
}
